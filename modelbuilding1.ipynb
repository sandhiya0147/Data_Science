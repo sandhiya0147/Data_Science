{
  "nbformat": 4,
  "nbformat_minor": 0,
  "metadata": {
    "colab": {
      "provenance": [],
      "authorship_tag": "ABX9TyN2u8wBGu2lmFTTq9tgxaj5",
      "include_colab_link": true
    },
    "kernelspec": {
      "name": "python3",
      "display_name": "Python 3"
    },
    "language_info": {
      "name": "python"
    }
  },
  "cells": [
    {
      "cell_type": "markdown",
      "metadata": {
        "id": "view-in-github",
        "colab_type": "text"
      },
      "source": [
        "<a href=\"https://colab.research.google.com/github/sandhiya0147/Data_Science/blob/main/modelbuilding1.ipynb\" target=\"_parent\"><img src=\"https://colab.research.google.com/assets/colab-badge.svg\" alt=\"Open In Colab\"/></a>"
      ]
    },
    {
      "cell_type": "markdown",
      "source": [
        "**BANK PERSONAL LOAN MODEL:**"
      ],
      "metadata": {
        "id": "4baO5SFt_aho"
      }
    },
    {
      "cell_type": "markdown",
      "source": [
        "IMPORT LIBRARIES:"
      ],
      "metadata": {
        "id": "f0_y3cKl_e9s"
      }
    },
    {
      "cell_type": "code",
      "execution_count": 1,
      "metadata": {
        "id": "r2X0AAI09Dk1"
      },
      "outputs": [],
      "source": [
        "import pandas as pd\n",
        "import matplotlib.pyplot as plt\n",
        "import seaborn as sns"
      ]
    },
    {
      "cell_type": "markdown",
      "source": [
        "LOAD DATA:"
      ],
      "metadata": {
        "id": "Y5cdPOLD_ir-"
      }
    },
    {
      "cell_type": "code",
      "source": [
        "df = pd.read_csv('/content/Bank_Personal_Loan_Modelling.csv')"
      ],
      "metadata": {
        "id": "bkWgq8Ww-Th7"
      },
      "execution_count": 2,
      "outputs": []
    },
    {
      "cell_type": "markdown",
      "source": [
        "BASIC ANALYSIS:"
      ],
      "metadata": {
        "id": "XYSMrksa_kkS"
      }
    },
    {
      "cell_type": "code",
      "source": [
        "print(df.head())"
      ],
      "metadata": {
        "colab": {
          "base_uri": "https://localhost:8080/"
        },
        "id": "R0zh8CGn-abA",
        "outputId": "56f7e90b-4e6b-4787-87f8-70217c6156c4"
      },
      "execution_count": 3,
      "outputs": [
        {
          "output_type": "stream",
          "name": "stdout",
          "text": [
            "   ID  Age  Experience  Income  ZIP Code  Family  CCAvg  Education  Mortgage  \\\n",
            "0   1   25           1      49     91107       4    1.6          1         0   \n",
            "1   2   45          19      34     90089       3    1.5          1         0   \n",
            "2   3   39          15      11     94720       1    1.0          1         0   \n",
            "3   4   35           9     100     94112       1    2.7          2         0   \n",
            "4   5   35           8      45     91330       4    1.0          2         0   \n",
            "\n",
            "   Personal Loan  Securities Account  CD Account  Online  CreditCard  \n",
            "0              0                   1           0       0           0  \n",
            "1              0                   1           0       0           0  \n",
            "2              0                   0           0       0           0  \n",
            "3              0                   0           0       0           0  \n",
            "4              0                   0           0       0           1  \n"
          ]
        }
      ]
    },
    {
      "cell_type": "code",
      "source": [
        "print(df.tail())"
      ],
      "metadata": {
        "colab": {
          "base_uri": "https://localhost:8080/"
        },
        "id": "_4rcF7h9-cZW",
        "outputId": "26e09e34-3ef4-41b3-e303-6e29d979a9dc"
      },
      "execution_count": 4,
      "outputs": [
        {
          "output_type": "stream",
          "name": "stdout",
          "text": [
            "        ID  Age  Experience  Income  ZIP Code  Family  CCAvg  Education  \\\n",
            "4995  4996   29           3      40     92697       1    1.9          3   \n",
            "4996  4997   30           4      15     92037       4    0.4          1   \n",
            "4997  4998   63          39      24     93023       2    0.3          3   \n",
            "4998  4999   65          40      49     90034       3    0.5          2   \n",
            "4999  5000   28           4      83     92612       3    0.8          1   \n",
            "\n",
            "      Mortgage  Personal Loan  Securities Account  CD Account  Online  \\\n",
            "4995         0              0                   0           0       1   \n",
            "4996        85              0                   0           0       1   \n",
            "4997         0              0                   0           0       0   \n",
            "4998         0              0                   0           0       1   \n",
            "4999         0              0                   0           0       1   \n",
            "\n",
            "      CreditCard  \n",
            "4995           0  \n",
            "4996           0  \n",
            "4997           0  \n",
            "4998           0  \n",
            "4999           1  \n"
          ]
        }
      ]
    },
    {
      "cell_type": "markdown",
      "source": [
        "VISUAL ANALYSIS:"
      ],
      "metadata": {
        "id": "cIor9brEM3yh"
      }
    },
    {
      "cell_type": "code",
      "source": [
        "sns.countplot(x='Personal Loan', data=df)\n",
        "plt.title('value count of personal loan')\n",
        "plt.show()"
      ],
      "metadata": {
        "colab": {
          "base_uri": "https://localhost:8080/",
          "height": 472
        },
        "id": "dnIK_2wz-hqx",
        "outputId": "ad3c476e-ee24-4710-d5a6-61fe0f3af427"
      },
      "execution_count": 5,
      "outputs": [
        {
          "output_type": "display_data",
          "data": {
            "text/plain": [
              "<Figure size 640x480 with 1 Axes>"
            ],
            "image/png": "[encoded data removed]"
          },
          "metadata": {}
        }
      ]
    },
    {
      "cell_type": "markdown",
      "source": [
        "MODEL BUILDING:"
      ],
      "metadata": {
        "id": "4sW9wWLtM9Ss"
      }
    },
    {
      "cell_type": "markdown",
      "source": [
        "**Random Forest Classifier**:"
      ],
      "metadata": {
        "id": "P7wz3LDzNDeG"
      }
    },
    {
      "cell_type": "code",
      "source": [
        "x = df.drop('Personal Loan', axis=1)\n",
        "y = df['Personal Loan']"
      ],
      "metadata": {
        "id": "ghPreGpS-jwE"
      },
      "execution_count": 6,
      "outputs": []
    },
    {
      "cell_type": "code",
      "source": [
        "from sklearn.model_selection import train_test_split\n",
        "\n",
        "x_train,x_test,y_train,y_test = train_test_split(x,y, train_size=0.7, random_state =42)\n",
        "x_train.shape, x_test.shape\n"
      ],
      "metadata": {
        "colab": {
          "base_uri": "https://localhost:8080/"
        },
        "id": "8bRpaRX--qdg",
        "outputId": "7b1257c9-b829-49cc-af48-3b17511b9048"
      },
      "execution_count": 7,
      "outputs": [
        {
          "output_type": "execute_result",
          "data": {
            "text/plain": [
              "((3500, 13), (1500, 13))"
            ]
          },
          "metadata": {},
          "execution_count": 7
        }
      ]
    },
    {
      "cell_type": "code",
      "source": [
        "import time\n",
        "from sklearn.ensemble import RandomForestClassifier\n",
        "\n",
        "classifier_rf = RandomForestClassifier(\n",
        "    random_state=41,\n",
        "    n_jobs=-1,\n",
        "    max_depth=5,\n",
        "    n_estimators=100,\n",
        "    oob_score=True\n",
        ")\n",
        "\n",
        "start_time = time.time()\n",
        "classifier_rf.fit(x_train, y_train)\n",
        "end_time = time.time()\n",
        "\n",
        "print(f\"Training completed in {end_time - start_time:.4f} seconds\")"
      ],
      "metadata": {
        "colab": {
          "base_uri": "https://localhost:8080/"
        },
        "id": "OHZqN8h0-vnb",
        "outputId": "1926b13a-579a-42c5-c80c-f6c76335634c"
      },
      "execution_count": 8,
      "outputs": [
        {
          "output_type": "stream",
          "name": "stdout",
          "text": [
            "Training completed in 0.3828 seconds\n"
          ]
        }
      ]
    },
    {
      "cell_type": "code",
      "source": [
        "from sklearn.metrics import classification_report, confusion_matrix\n",
        "y_pred = classifier_rf.predict(x_test)\n",
        "print(confusion_matrix(y_test, y_pred))\n",
        "print(classification_report(y_test, y_pred))"
      ],
      "metadata": {
        "colab": {
          "base_uri": "https://localhost:8080/"
        },
        "id": "Yu-xBBsN-0jU",
        "outputId": "3f313cc7-fb39-4cb0-8aa9-ff31d5ae0a88"
      },
      "execution_count": 9,
      "outputs": [
        {
          "output_type": "stream",
          "name": "stdout",
          "text": [
            "[[1341    2]\n",
            " [  47  110]]\n",
            "              precision    recall  f1-score   support\n",
            "\n",
            "           0       0.97      1.00      0.98      1343\n",
            "           1       0.98      0.70      0.82       157\n",
            "\n",
            "    accuracy                           0.97      1500\n",
            "   macro avg       0.97      0.85      0.90      1500\n",
            "weighted avg       0.97      0.97      0.96      1500\n",
            "\n"
          ]
        }
      ]
    },
    {
      "cell_type": "markdown",
      "source": [
        "FEATURE IMPORTANCE VIZUALIZATION:"
      ],
      "metadata": {
        "id": "PW_c9fEeNQme"
      }
    },
    {
      "cell_type": "code",
      "source": [
        "import matplotlib.pyplot as plt\n",
        "importances = classifier_rf.feature_importances_\n",
        "plt.barh(range(len(importances)), importances)\n",
        "plt.xlabel('personal loan')\n",
        "plt.ylabel('count')\n",
        "plt.title('Random forest Feature Importance')\n",
        "plt.show()"
      ],
      "metadata": {
        "colab": {
          "base_uri": "https://localhost:8080/",
          "height": 472
        },
        "id": "dBmyaYoD-6Ra",
        "outputId": "e265e2ea-68fd-41e1-f110-9cf2ee0c6bf4"
      },
      "execution_count": 10,
      "outputs": [
        {
          "output_type": "display_data",
          "data": {
            "text/plain": [
              "<Figure size 640x480 with 1 Axes>"
            ],
            "image/png": "[encoded data removed]"
          },
          "metadata": {}
        }
      ]
    }
  ]
}